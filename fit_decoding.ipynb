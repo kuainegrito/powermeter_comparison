{
 "cells": [
  {
   "cell_type": "code",
   "execution_count": 1,
   "metadata": {},
   "outputs": [],
   "source": [
    "import fitparse"
   ]
  },
  {
   "cell_type": "code",
   "execution_count": 7,
   "metadata": {},
   "outputs": [],
   "source": [
    "fitfile = fitparse.FitFile(\"fit_assioma.fit\")\n",
    "\n",
    "with open('fit_assioma.txt', 'w') as f:\n",
    "    print(\"---\",file=f)\n",
    "    # Iterate over all messages of type \"record\"\n",
    "    # (other types include \"device_info\", \"file_creator\", \"event\", etc)\n",
    "    for record in fitfile.get_messages(\"record\"):\n",
    "\n",
    "        # Records can contain multiple pieces of data (ex: timestamp, latitude, longitude, etc)\n",
    "        for data in record:\n",
    "\n",
    "            # Print the name and value of the data (and the units if it has any)\n",
    "            if data.units:\n",
    "                print(\" * {}: {} ({})\".format(data.name, data.value, data.units),file=f)\n",
    "            else:\n",
    "                print(\" * {}: {}\".format(data.name, data.value),file=f)\n",
    "\n",
    "        print(\"---\",file=f)"
   ]
  },
  {
   "cell_type": "code",
   "execution_count": 6,
   "metadata": {},
   "outputs": [],
   "source": [
    "fitfile = fitparse.FitFile(\"fit_magene.fit\")\n",
    "\n",
    "with open('fit_magene.txt', 'w') as f:\n",
    "    print(\"---\",file=f)\n",
    "    # Iterate over all messages of type \"record\"\n",
    "    # (other types include \"device_info\", \"file_creator\", \"event\", etc)\n",
    "    for record in fitfile.get_messages(\"record\"):\n",
    "\n",
    "        # Records can contain multiple pieces of data (ex: timestamp, latitude, longitude, etc)\n",
    "        for data in record:\n",
    "\n",
    "            # Print the name and value of the data (and the units if it has any)\n",
    "            if data.units:\n",
    "                print(\" * {}: {} ({})\".format(data.name, data.value, data.units),file=f)\n",
    "            else:\n",
    "                print(\" * {}: {}\".format(data.name, data.value),file=f)\n",
    "\n",
    "        print(\"---\",file=f)"
   ]
  },
  {
   "cell_type": "code",
   "execution_count": null,
   "metadata": {},
   "outputs": [],
   "source": []
  }
 ],
 "metadata": {
  "kernelspec": {
   "display_name": "Python 3",
   "language": "python",
   "name": "python3"
  },
  "language_info": {
   "codemirror_mode": {
    "name": "ipython",
    "version": 3
   },
   "file_extension": ".py",
   "mimetype": "text/x-python",
   "name": "python",
   "nbconvert_exporter": "python",
   "pygments_lexer": "ipython3",
   "version": "3.8.5"
  }
 },
 "nbformat": 4,
 "nbformat_minor": 4
}
